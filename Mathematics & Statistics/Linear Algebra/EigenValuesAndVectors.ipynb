{
 "cells": [
  {
   "cell_type": "markdown",
   "metadata": {},
   "source": [
    "# <center>EIGEN VALUE AND EIGEN VECTOR</center>"
   ]
  },
  {
   "cell_type": "markdown",
   "metadata": {},
   "source": [
    "Eigen values and Eigen vectors are concepts from linear algebra that are used to analyze and understand linear transformations, particularly those represented by square matrices. They are used in many different area of mathematics, including machine learning and artificial intelligence."
   ]
  },
  {
   "cell_type": "markdown",
   "metadata": {},
   "source": [
    "In Machine Learning, eigen values and eigen vectors are used to represent data, to perform operations on data, and to train the machine learning models."
   ]
  },
  {
   "cell_type": "markdown",
   "metadata": {},
   "source": [
    "In Artificial Intelligence, eigen values and eigen vectors are used to develop algorithms for image recognition, natural language processing and robotics."
   ]
  },
  {
   "cell_type": "markdown",
   "metadata": {},
   "source": [
    "Eigen Value (λ) : An Eigen value of a square matrix A is a scaler (a single number) λ such that there exist a non-zero vector v (the eigen vector) for which the following equation holds :\n",
    "\n",
    "Av = λv\n",
    "\n",
    "In other words, When you multiply the matrix A by the eigen vector v, you get a new vector that is just a scaled version of v (scaled by  the eigen value λ).\n",
    "\n",
    "Eigen Vector : The vector v mentioned above is called a eigen vector corresponding to the eigen value λ. Eigen vectors only change in scale (magnitude) when multiplied by the matrix A; their direction remains the same."
   ]
  },
  {
   "cell_type": "markdown",
   "metadata": {},
   "source": [
    "Mathematically, to find eigen values and eigen vectors, you typically solve the following equation for λ and v :\n",
    "\n",
    "(A - λI)v = 0\n",
    "\n",
    "Where:\n",
    "\n",
    "<ul>\n",
    "<li>A is the square matrix for which you want to find eigen values and eigen vectors.</li>\n",
    "<li>λ is the eigen value you're trying to find.</li>\n",
    "<li>I is the Identity matrix.</li>\n",
    "<li>v is the eigen vector you're trying to find.</li>\n",
    "</ul>"
   ]
  },
  {
   "cell_type": "markdown",
   "metadata": {},
   "source": [
    "## Eigen Values and Eigen Vectors using Python"
   ]
  },
  {
   "cell_type": "markdown",
   "metadata": {},
   "source": [
    "Python NumPy module is used for calculating Eigen Values and Eigen Vectors for a given Square matrix."
   ]
  },
  {
   "cell_type": "code",
   "execution_count": 1,
   "metadata": {},
   "outputs": [],
   "source": [
    "import numpy as np\n",
    "from numpy.linalg import eig"
   ]
  },
  {
   "cell_type": "code",
   "execution_count": 2,
   "metadata": {},
   "outputs": [
    {
     "name": "stdout",
     "output_type": "stream",
     "text": [
      "Eigen Values : [-1.  4.]\n",
      "Eigen Vectors : [[-0.89442719 -0.4472136 ]\n",
      " [ 0.4472136  -0.89442719]]\n"
     ]
    }
   ],
   "source": [
    "matrix_A = np.array([[0 , 2] , [2 , 3]])\n",
    "\n",
    "values , vectors = eig(matrix_A)\n",
    "\n",
    "print(\"Eigen Values :\", values)\n",
    "print(\"Eigen Vectors :\", vectors)"
   ]
  },
  {
   "cell_type": "code",
   "execution_count": 3,
   "metadata": {},
   "outputs": [
    {
     "name": "stdout",
     "output_type": "stream",
     "text": [
      "Eigen Values :  [ 8.80916362  0.92620912 -0.73537273]\n",
      "Eigen Vectors :  [[-0.52799324 -0.77557092 -0.36272811]\n",
      " [-0.604391    0.62277013 -0.7103262 ]\n",
      " [-0.59660259 -0.10318482  0.60321224]]\n"
     ]
    }
   ],
   "source": [
    "matrix_B = np.array([[2 , 2 , 4] , [1 , 3 , 5] , [2 , 3 , 4]])\n",
    "\n",
    "values , vectors = eig(matrix_B)\n",
    "\n",
    "print(\"Eigen Values : \", values)\n",
    "print(\"Eigen Vectors : \", vectors)"
   ]
  },
  {
   "cell_type": "markdown",
   "metadata": {},
   "source": [
    "## Eigen Values and Eigen Vectors in Machine Learning and AI "
   ]
  },
  {
   "cell_type": "markdown",
   "metadata": {},
   "source": [
    "Now, let's delve into the real-world applications of Eigen values and Eigen vectors in ML and AI :"
   ]
  },
  {
   "cell_type": "markdown",
   "metadata": {},
   "source": [
    "<ul>\n",
    "<li>Dimensionality Reduction (PCA) : In Principal Component Analysis, you calculate eigen values and eigen vectors of the covariance matrix of your data.The eigen vectors with the largest eigen values capture the most variance of the data and can be used to reduce the dimensionality of the dataset while preserving important information.</li>\n",
    "<li>Image Compression : Eigen values and Eigen vectors are used in techniques like Singular Value Decomposition (SVD) for image compression. By representing images in terms of their eigen vectors and eigen values, you can reduce storage requirements while retaining essential image features.</li>\n",
    "<li>Graph Theory : Eigen vectors play a role in analyzing networks and graphs. They can be used to find important nodes or communities in social network or other interconnected systems.</li>\n",
    "<li>Natural Language Processing (NLP) : In NLP, eigen vectors can help identify the most relevant terms in a large document-term matrix, enabling techniques like Latent Semantic Analysis (LSA) for document retrieval and text Summarization.</li>\n",
    "<li>Machine Learning Algorithms : Eigen values and Eigen Vectors can be used to analyze the stability and convergence properties of machine learning algorithms, especially in deep learning when dealing with weight matrices in neural networks.</li>\n",
    "</ul>"
   ]
  },
  {
   "cell_type": "markdown",
   "metadata": {},
   "source": [
    "# <center>Happy Learning !!!</center>"
   ]
  }
 ],
 "metadata": {
  "kernelspec": {
   "display_name": "Python 3",
   "language": "python",
   "name": "python3"
  },
  "language_info": {
   "codemirror_mode": {
    "name": "ipython",
    "version": 3
   },
   "file_extension": ".py",
   "mimetype": "text/x-python",
   "name": "python",
   "nbconvert_exporter": "python",
   "pygments_lexer": "ipython3",
   "version": "3.12.9"
  }
 },
 "nbformat": 4,
 "nbformat_minor": 2
}
