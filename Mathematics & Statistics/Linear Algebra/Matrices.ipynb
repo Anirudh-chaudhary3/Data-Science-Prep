{
 "cells": [
  {
   "cell_type": "markdown",
   "metadata": {},
   "source": [
    "# <center>MATRICES</center>"
   ]
  },
  {
   "cell_type": "markdown",
   "metadata": {},
   "source": [
    "A Matrix is two-dimensional array where the data is in the form of rows and columns. The each element in a matrix is represented as a[i][j] where i represents the row number and j represents the column number. Each matrix has an order representing the total number of rows (m) and columns (n) in the matrix and it is written as m x n."
   ]
  },
  {
   "cell_type": "markdown",
   "metadata": {},
   "source": [
    "In Machine Learning , the data often comes in multi-dimensional arrays so matrices are best to handle such inputs."
   ]
  },
  {
   "cell_type": "markdown",
   "metadata": {},
   "source": [
    "## Matrix Operations using Python"
   ]
  },
  {
   "cell_type": "markdown",
   "metadata": {},
   "source": [
    "### Creation of Matrix using Python"
   ]
  },
  {
   "cell_type": "markdown",
   "metadata": {},
   "source": [
    "Python NumPy module is used for creation of Matrix. we use numpy.array() method to create two-dimensional array i.e, Matrix."
   ]
  },
  {
   "cell_type": "code",
   "execution_count": null,
   "metadata": {},
   "outputs": [],
   "source": [
    "# Matrix\n",
    "\n",
    "import numpy as np\n",
    "\n",
    "matrix = np.array([[1 , 2 , 5], [3 , 4 , 6]])\n",
    "\n",
    "print(\"Matrix :\", matrix)"
   ]
  },
  {
   "cell_type": "markdown",
   "metadata": {},
   "source": [
    "### Basic Operation using Python Matrix"
   ]
  },
  {
   "cell_type": "markdown",
   "metadata": {},
   "source": [
    "List of basic operations that can be performed on matrix :\n",
    "<ul>\n",
    "    <li>Addition</li>\n",
    "    <li>Subtraction</li>\n",
    "    <li>Division</li>\n",
    "    <li>Matrix - Matrix Multiplication</li>\n",
    "    <li>Matrix - Vector Multiplication</li>\n",
    "    <li>Matrix - Scalar Multiplication</li>\n",
    "    <li>Inversion</li>\n",
    "</ul>"
   ]
  },
  {
   "cell_type": "code",
   "execution_count": null,
   "metadata": {},
   "outputs": [],
   "source": [
    "import numpy as np\n",
    "\n",
    "# Creating a 2-D Matrix\n",
    "\n",
    "matrix_1 = np.array([[1 , 2] , [3 , 4]])\n",
    "matrix_2 = np.array([[5 , 6] , [7 , 8]])\n",
    "\n",
    "# Printing Matrix\n",
    "\n",
    "print(\"Matrix 1 :\", matrix_1)\n",
    "print(\"Matrix 2 :\", matrix_2)\n",
    "\n",
    "# Operation 1 : Addition\n",
    "\n",
    "matrix_addition = matrix_1 + matrix_2\n",
    "print(\"Addition of Two Matrix : \", matrix_addition)\n",
    "\n",
    "# Operation 2 : Subtraction\n",
    "\n",
    "matrix_subtraction = matrix_1 - matrix_2\n",
    "print(\"Subtraction of Two Matrix : \", matrix_subtraction)\n",
    "\n",
    "# Operation 3 : Division\n",
    "\n",
    "matrix_division = matrix_2 // matrix_1\n",
    "print(\"Division of Two Matrix : \", matrix_division)\n",
    "\n",
    "# Operation 4 : Matrix - Matrix Multiplication (Dot Product)\n",
    "\n",
    "matrix_multiplication = matrix_1.dot(matrix_2)\n",
    "print(\"Multiplication of Two Matrix : \", matrix_multiplication)\n",
    "\n",
    "# Operation 5 : Matrix - Vector Multiplication\n",
    "\n",
    "vector_1 = np.array([[1],[2]])\n",
    "\n",
    "matrix_vector_multiplication = matrix_1.dot(vector_1)\n",
    "print(\"Matrix - Vector Multiplication : \", matrix_vector_multiplication)\n",
    "\n",
    "# Operation 6 : Matrix - Scaler Multiplication\n",
    "\n",
    "scaler = 3\n",
    "\n",
    "matrix_scaler_multiplication = matrix_1 * scaler\n",
    "print(\"Matrix Scaler Multiplication : \", matrix_scaler_multiplication)\n",
    "\n",
    "# Operation 7 : Inversion\n",
    "# We have used linear Algebra Inv method from NumPy for performing Matrix Inversion\n",
    "\n",
    "matrix_inversion_1 = np.linalg.inv(matrix_1)\n",
    "print(\"Inversion of Matrix 1 :\", matrix_inversion_1)\n",
    "\n",
    "matrix_inversion_2 = np.linalg.inv(matrix_2)\n",
    "print(\"Inversion of Matrix 2 :\", matrix_inversion_2)"
   ]
  },
  {
   "cell_type": "markdown",
   "metadata": {},
   "source": [
    "## Matrix in Machine Learning"
   ]
  },
  {
   "cell_type": "markdown",
   "metadata": {},
   "source": [
    "Now, let's delve into the real-world applications of matrix operations in Machine learning :\n",
    "\n",
    "<ul>\n",
    "    <li>Linear Regression : Matrix Multiplication helps us calculate the optimal weights for features, minimizing the difference between the predicted and actual values.</li>\n",
    "    <li>Principal Component Analysis (PCA) : By performing matrix operations on the data co-variance matrix, PCA extracts important features and reduces dimensionality.</li>\n",
    "    <li>Neural Networks : The heart of deep learning, neural network heavily rely on matrix operations to propagate information, update weights, and make predictions.</li>\n",
    "    <li>Image Processing : Matrices represent images, and operations like pooling and convolution are used to extract features and downsample images.</li>\n",
    "    <li>Natural Language Processing (NLP) : Word embeddings, such as Word2Vec, leverage matrix operations to represent words in a continuous vector space.</li>\n",
    "    <li>Recommendation Systems : Matrices model user-item interactions, and operations like matrix factorization help predict user preferences.</li>\n",
    "</ul>"
   ]
  },
  {
   "cell_type": "markdown",
   "metadata": {},
   "source": [
    "Matrix enables us to harness data's power, uncover patterns, and build models that learn and predict with astonishing accuracy. So, the next time you encouter a machine learning algorithm, remember that at its core lies a matrix of numbers, quietly shaping the future of technology."
   ]
  },
  {
   "cell_type": "markdown",
   "metadata": {},
   "source": [
    "# <center>Happy Learning !!!</center>"
   ]
  }
 ],
 "metadata": {
  "kernelspec": {
   "display_name": "Python 3",
   "language": "python",
   "name": "python3"
  },
  "language_info": {
   "codemirror_mode": {
    "name": "ipython",
    "version": 3
   },
   "file_extension": ".py",
   "mimetype": "text/x-python",
   "name": "python",
   "nbconvert_exporter": "python",
   "pygments_lexer": "ipython3",
   "version": "3.12.9"
  }
 },
 "nbformat": 4,
 "nbformat_minor": 2
}
