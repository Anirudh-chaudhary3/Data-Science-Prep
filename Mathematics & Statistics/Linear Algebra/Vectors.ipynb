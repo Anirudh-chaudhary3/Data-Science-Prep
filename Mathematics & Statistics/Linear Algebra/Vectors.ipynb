{
 "cells": [
  {
   "cell_type": "markdown",
   "metadata": {},
   "source": [
    "# <center>VECTOR</center>"
   ]
  },
  {
   "cell_type": "markdown",
   "metadata": {},
   "source": [
    "A Vector is a one-dimensional array of numbers. Vector can be used to represent data points in space. For example, a Vector could represent height, weight, and age of a person.\n",
    "\n",
    "A Vector have a magnitude and a direction. The magnitude of vector represent its length and the direction of the vector represent the angle that it makes with the positive x-axis."
   ]
  },
  {
   "cell_type": "markdown",
   "metadata": {},
   "source": [
    "Vectors can represent many different things in Machine learning. For example : The features of data point, parameters, or the output of the Machine learning algorithms."
   ]
  },
  {
   "cell_type": "markdown",
   "metadata": {},
   "source": [
    "## Vector Operations using Python"
   ]
  },
  {
   "cell_type": "markdown",
   "metadata": {},
   "source": [
    "### Creation of Vector in Python"
   ]
  },
  {
   "cell_type": "markdown",
   "metadata": {},
   "source": [
    "Python NumPy Module is used for creating a vector. We use numpy.array() method to create one-dimensional array i.e, Vector."
   ]
  },
  {
   "cell_type": "code",
   "execution_count": null,
   "metadata": {},
   "outputs": [],
   "source": [
    "# Horizontal Vector\n",
    "\n",
    "import numpy as np\n",
    "\n",
    "lst = [10,20,30,40,50]\n",
    "\n",
    "vector = np.array(lst)\n",
    "\n",
    "print(\"Horizontal Vector created from a list :\\n\")\n",
    "print(vector)"
   ]
  },
  {
   "cell_type": "code",
   "execution_count": null,
   "metadata": {},
   "outputs": [],
   "source": [
    "# Vertical Vector\n",
    "\n",
    "import numpy as np\n",
    "\n",
    "lst = [[10],\n",
    "       [20],\n",
    "       [30],\n",
    "       [40],\n",
    "       [50]]\n",
    "\n",
    "vector = np.array(lst)\n",
    "\n",
    "print(\"Vertical Vector created from a list:\\n\")\n",
    "print(vector)"
   ]
  },
  {
   "cell_type": "markdown",
   "metadata": {},
   "source": [
    "### Basic Operation using Python Vector"
   ]
  },
  {
   "cell_type": "markdown",
   "metadata": {},
   "source": [
    "List of basic operations that can be performed on vectors :\n",
    "<ul>\n",
    "<li>Addition</li>\n",
    "<li>Subtraction</li>\n",
    "<li>Multiplication</li>\n",
    "<li>Division</li>\n",
    "<li>Scaler Multiplication</li>\n",
    "<li>Dot Product</li>\n",
    "</ul>"
   ]
  },
  {
   "cell_type": "code",
   "execution_count": null,
   "metadata": {},
   "outputs": [],
   "source": [
    "import numpy as np\n",
    "\n",
    "# Creating a 1-D lists\n",
    "\n",
    "list_1 = [5,10,16,20]\n",
    "list_2 = [2,4,8,12]\n",
    "\n",
    "# Converting a 1-D lists into Vectors\n",
    "\n",
    "vector_1 = np.array(list_1)\n",
    "vector_2 = np.array(list_2)\n",
    "\n",
    "# Printing Vectors\n",
    "\n",
    "print(\"Vector 1 :\", vector_1)\n",
    "print(\"Vector 2 :\", vector_2)\n",
    "\n",
    "# Operation 1 : Addition\n",
    "\n",
    "vector_addition = vector_1 + vector_2\n",
    "print(\"Addition of Two Vectors : \", vector_addition)\n",
    "\n",
    "# Operation 2 : Subtraction\n",
    "\n",
    "vector_subtraction = vector_1 - vector_2\n",
    "print(\"Subtraction of Two Vectors : \", vector_subtraction)\n",
    "\n",
    "# Operation 3 : Multiplication\n",
    "\n",
    "vector_multiplication = vector_1 * vector_2\n",
    "print(\"Multiplication of Two Vectors : \", vector_multiplication)\n",
    "\n",
    "# Operation 4 : Division\n",
    "\n",
    "vector_division = vector_1 / vector_2\n",
    "print(\"Division of Two Vectors : \", vector_division)\n",
    "\n",
    "# Operation 5 : Scaler Multiplication (Multiply complete vector using a scaler value)\n",
    "\n",
    "vector_scaler_multiplication_1 = vector_1 * 2\n",
    "print(\"Scaler Multiplication of First Vectors : \", vector_scaler_multiplication_1)\n",
    "\n",
    "vector_scaler_multiplication_2 = vector_2 * 2\n",
    "print(\"Scaler Multiplication of First Vectors : \", vector_scaler_multiplication_2)\n",
    "\n",
    "# Operation 6 : Dot Product (vector_1 . vector_2 = a1*b1 + a2*b2 + a3*b3)\n",
    "\n",
    "vector_dot_product = vector_1.dot(vector_2)\n",
    "print(\"Dot Product of Two Vectors : \", vector_dot_product)"
   ]
  },
  {
   "cell_type": "markdown",
   "metadata": {},
   "source": [
    "## Vector in Machine Learning"
   ]
  },
  {
   "cell_type": "markdown",
   "metadata": {},
   "source": [
    "Vector plays crucial role in Machine Learning due to its ability to represent data values and features in a structures format. Here's how vectors are used in Machine learning applications :\n",
    "\n",
    "<ul>\n",
    "<li>Feature Representation : In natural language processing (NLP), a sentence can be represented as a vector where each dimension corresponds to word's frequency or embedding. This allow algorithms to work with text data.</li>\n",
    "<li>Image Data : Images can be represented as vectors where each component represents the intensity of pixel or the value of certain component in that pixel. This representation enables the use of Image processing algorithms.</li>\n",
    "<li>Data Points : In datasets, each row often represents a data point, and each column represents a feature. This results in a matrix where each row is a vector.</li>\n",
    "<li>Weights in Models : Machine Learning often involves weights and biases that are learned during training. These weights are represented as vectors, and the dot product of weights and input vectors plays a crucial role in decision-making process of the model.</li>\n",
    "<li>Dimensionality Reduction : Machine Learning Techniques like Principal Component Analysis (PCA) use vectors and their relationships to reduce the dimensionality of data while preserving its variance.</li>\n",
    "</ul>"
   ]
  },
  {
   "cell_type": "markdown",
   "metadata": {},
   "source": [
    "Vectors form the basis for various mathematical operations in machine learning, enabling algorithms to learn, make predictions and gain insights from data. As you progress in your ML Journey, a strong foundation of vectors will be invaluable in designing and implementing effective algorithms."
   ]
  },
  {
   "cell_type": "markdown",
   "metadata": {},
   "source": [
    "# <center>Happy Learning !!!</center>"
   ]
  }
 ],
 "metadata": {
  "kernelspec": {
   "display_name": "Python 3",
   "language": "python",
   "name": "python3"
  },
  "language_info": {
   "codemirror_mode": {
    "name": "ipython",
    "version": 3
   },
   "file_extension": ".py",
   "mimetype": "text/x-python",
   "name": "python",
   "nbconvert_exporter": "python",
   "pygments_lexer": "ipython3",
   "version": "3.12.9"
  }
 },
 "nbformat": 4,
 "nbformat_minor": 2
}
